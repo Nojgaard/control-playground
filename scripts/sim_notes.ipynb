{
 "cells": [
  {
   "cell_type": "code",
   "execution_count": null,
   "id": "458d406c",
   "metadata": {},
   "outputs": [],
   "source": [
    "from sim.biped import Biped\n",
    "from dm_control.composer import Environment\n",
    "\n",
    "dt = 0.02\n",
    "robot = Biped(control_timestep=dt)\n",
    "env = Environment(robot, strip_singleton_obs_buffer_dim=True)"
   ]
  },
  {
   "cell_type": "code",
   "execution_count": null,
   "id": "41045975",
   "metadata": {},
   "outputs": [],
   "source": [
    "import numpy as np\n",
    "from sim.robot_state import RobotState\n",
    "import mujoco\n",
    "import mediapy as media\n",
    "\n",
    "FRAMERATE = 30\n",
    "\n",
    "env.reset()\n",
    "# run simulation for 0.5 seconds, and collect pitch angle\n",
    "\n",
    "physics = env.physics\n",
    "model, data = physics.model, physics.data\n",
    "renderer = mujoco.Renderer(model.ptr, height=480, width=640)\n",
    "\n",
    "frames = []\n",
    "pitch_angles = []\n",
    "dts = []\n",
    "for t in np.arange(0, 0.5, dt):\n",
    "    timestep = env.step(np.zeros(4))\n",
    "    state = RobotState(timestep)\n",
    "    pitch_angles.append(state.orientation[1])\n",
    "    dts.append(t)\n"
   ]
  },
  {
   "cell_type": "code",
   "execution_count": null,
   "id": "6e099ec9",
   "metadata": {},
   "outputs": [],
   "source": [
    "import matplotlib.pyplot as plt\n",
    "\n",
    "plt.plot(dts, pitch_angles)\n",
    "plt.xlabel(\"Time (s)\")\n",
    "plt.ylabel(\"Pitch Angle (rad)\")\n",
    "plt.title(\"Pitch Angle over Time\")\n",
    "plt.show()"
   ]
  },
  {
   "cell_type": "code",
   "execution_count": null,
   "id": "3a5be760",
   "metadata": {},
   "outputs": [],
   "source": [
    "FRAMERATE = 30\n",
    "\n",
    "env.reset()\n",
    "# run simulation for 0.5 seconds and create video\n",
    "\n",
    "physics = env.physics\n",
    "model, data = physics.model, physics.data\n",
    "renderer = mujoco.Renderer(model.ptr, height=480, width=640)\n",
    "\n",
    "frames = []\n",
    "pitch_angles = []\n",
    "dts = []\n",
    "for t in np.arange(0, 0.5, dt):\n",
    "    env.step(np.zeros(4))\n",
    "    # Render and save frames.\n",
    "    if len(frames) < t * FRAMERATE:\n",
    "        renderer.update_scene(data.ptr)\n",
    "        pixels = renderer.render()\n",
    "        frames.append(pixels)\n",
    "\n",
    "# Display video.\n",
    "media.show_video(frames, fps=FRAMERATE)\n",
    "renderer.close()"
   ]
  }
 ],
 "metadata": {
  "kernelspec": {
   "display_name": ".venv",
   "language": "python",
   "name": "python3"
  },
  "language_info": {
   "codemirror_mode": {
    "name": "ipython",
    "version": 3
   },
   "file_extension": ".py",
   "mimetype": "text/x-python",
   "name": "python",
   "nbconvert_exporter": "python",
   "pygments_lexer": "ipython3",
   "version": "3.12.2"
  }
 },
 "nbformat": 4,
 "nbformat_minor": 5
}
